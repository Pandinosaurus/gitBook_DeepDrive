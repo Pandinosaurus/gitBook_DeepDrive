{
 "cells": [
  {
   "cell_type": "code",
   "execution_count": 1,
   "metadata": {},
   "outputs": [],
   "source": [
    "from second.pytorch.inference import TorchInferenceContext\n",
    "import second.core.box_np_ops as box_np_ops"
   ]
  },
  {
   "cell_type": "code",
   "execution_count": 19,
   "metadata": {},
   "outputs": [],
   "source": [
    "import numpy as np\n",
    "import pickle\n",
    "import math\n",
    "import sys\n",
    "from glob import glob\n",
    "from pathlib import Path\n",
    "import pykitti\n",
    "import matplotlib.pyplot as plt\n",
    "from mpl_toolkits.mplot3d import Axes3D"
   ]
  },
  {
   "cell_type": "code",
   "execution_count": 7,
   "metadata": {},
   "outputs": [],
   "source": [
    "point_size = 1.0\n",
    "axes_str = ['X', 'Y', 'Z']\n",
    "axes_limits = [\n",
    "    [-20, 80], # X axis range\n",
    "    [-20, 20], # Y axis range\n",
    "    [-3, 10]   # Z axis range\n",
    "]\n",
    "num_features = 4"
   ]
  },
  {
   "cell_type": "code",
   "execution_count": 8,
   "metadata": {},
   "outputs": [],
   "source": [
    "def kitti_anno_to_corners(info, annos=None):\n",
    "    rect = info['calib/R0_rect']\n",
    "    P2 = info['calib/P2']\n",
    "    Tr_velo_to_cam = info['calib/Tr_velo_to_cam']\n",
    "    if annos is None:\n",
    "        annos = info['annos']\n",
    "    dims = annos['dimensions']\n",
    "    loc = annos['location']\n",
    "    rots = annos['rotation_y']\n",
    "    scores = None\n",
    "    if 'score' in annos:\n",
    "        scores = annos['score']\n",
    "    boxes_camera = np.concatenate([loc, dims, rots[..., np.newaxis]], axis=1)\n",
    "    boxes_lidar = box_np_ops.box_camera_to_lidar(boxes_camera, rect, Tr_velo_to_cam)\n",
    "    boxes_corners = box_np_ops.center_to_corner_box3d(\n",
    "        boxes_lidar[:, :3],\n",
    "        boxes_lidar[:, 3:6],\n",
    "        boxes_lidar[:, 6],\n",
    "        origin=[0.5, 0.5, 0],\n",
    "        axis=2)\n",
    "    \n",
    "    return boxes_corners, scores, boxes_lidar"
   ]
  },
  {
   "cell_type": "code",
   "execution_count": 9,
   "metadata": {},
   "outputs": [],
   "source": [
    "def draw_box(pyplot_axis, vertices, axes=[0, 1, 2], color='black'):\n",
    "    \"\"\"\n",
    "    Draws a bounding 3D box in a pyplot axis.\n",
    "    \n",
    "    Parameters\n",
    "    ----------\n",
    "    pyplot_axis : Pyplot axis to draw in.\n",
    "    vertices    : Array 8 box vertices containing x, y, z coordinates.\n",
    "    axes        : Axes to use. Defaults to `[0, 1, 2]`, e.g. x, y and z axes.\n",
    "    color       : Drawing color. Defaults to `black`.\n",
    "    \"\"\"\n",
    "    vertices = vertices[axes, :]\n",
    "    connections = [\n",
    "        [0, 1], [1, 2], [2, 3], [3, 0],  # Lower plane parallel to Z=0 plane\n",
    "        [4, 5], [5, 6], [6, 7], [7, 4],  # Upper plane parallel to Z=0 plane\n",
    "        [0, 4], [1, 5], [2, 6], [3, 7]  # Connections between upper and lower planes\n",
    "    ]\n",
    "    for connection in connections:\n",
    "        pyplot_axis.plot(*vertices[:, connection], c=color, lw=0.5)"
   ]
  },
  {
   "cell_type": "code",
   "execution_count": 10,
   "metadata": {},
   "outputs": [],
   "source": [
    "def draw_point_cloud(ax, title, points, boxes_corners, axes=[0, 1, 2], xlim3d=None, ylim3d=None, zlim3d=None):\n",
    "    \"\"\"\n",
    "    Convenient method for drawing various point cloud projections as a part of frame statistics.\n",
    "    \"\"\"\n",
    "    ax.scatter(*np.transpose(points[:, axes]), s=point_size, c=points[:, 3], cmap='gray')\n",
    "    ax.set_title(title)\n",
    "    ax.set_xlabel('{} axis'.format(axes_str[axes[0]]))\n",
    "    ax.set_ylabel('{} axis'.format(axes_str[axes[1]]))\n",
    "    if len(axes) > 2:\n",
    "        ax.set_xlim3d(*axes_limits[axes[0]])\n",
    "        ax.set_ylim3d(*axes_limits[axes[1]])\n",
    "        ax.set_zlim3d(*axes_limits[axes[2]])\n",
    "        ax.set_zlabel('{} axis'.format(axes_str[axes[2]]))\n",
    "    else:\n",
    "        ax.set_xlim(*axes_limits[axes[0]])\n",
    "        ax.set_ylim(*axes_limits[axes[1]])\n",
    "    # User specified limits\n",
    "    if xlim3d!=None:\n",
    "        ax.set_xlim3d(xlim3d)\n",
    "    if ylim3d!=None:\n",
    "        ax.set_ylim3d(ylim3d)\n",
    "    if zlim3d!=None:\n",
    "        ax.set_zlim3d(zlim3d)\n",
    "\n",
    "    for boxes_corner in boxes_corners:\n",
    "        t_rects = np.transpose(boxes_corner)\n",
    "        draw_box(ax, t_rects, axes=axes, color=(1,0,0))"
   ]
  },
  {
   "cell_type": "code",
   "execution_count": 22,
   "metadata": {},
   "outputs": [],
   "source": [
    "def draw_point_cloud_color(ax, title, points, colors, axes=[0, 1, 2], xlim3d=None, ylim3d=None, zlim3d=None):\n",
    "    \"\"\"\n",
    "    Convenient method for drawing various point cloud projections as a part of frame statistics.\n",
    "    \"\"\"\n",
    "    ax.scatter(*np.transpose(points[:, axes]), s=point_size, c=colors, cmap='gray')\n",
    "    ax.set_title(title)\n",
    "    ax.set_xlabel('{} axis'.format(axes_str[axes[0]]))\n",
    "    ax.set_ylabel('{} axis'.format(axes_str[axes[1]]))\n",
    "    if len(axes) > 2:\n",
    "        ax.set_xlim3d(*axes_limits[axes[0]])\n",
    "        ax.set_ylim3d(*axes_limits[axes[1]])\n",
    "        ax.set_zlim3d(*axes_limits[axes[2]])\n",
    "        ax.set_zlabel('{} axis'.format(axes_str[axes[2]]))\n",
    "    else:\n",
    "        ax.set_xlim(*axes_limits[axes[0]])\n",
    "        ax.set_ylim(*axes_limits[axes[1]])\n",
    "    # User specified limits\n",
    "    if xlim3d!=None:\n",
    "        ax.set_xlim3d(xlim3d)\n",
    "    if ylim3d!=None:\n",
    "        ax.set_ylim3d(ylim3d)\n",
    "    if zlim3d!=None:\n",
    "        ax.set_zlim3d(zlim3d)"
   ]
  },
  {
   "cell_type": "code",
   "execution_count": 23,
   "metadata": {},
   "outputs": [],
   "source": [
    "def network_inference_by_path(kitti_info, v_path, sampling):\n",
    "    print(v_path)\n",
    "    points = np.fromfile(v_path, dtype=np.float32, count=-1).reshape([-1, num_features])\n",
    "    points = points[1::sampling] # sampling\n",
    "\n",
    "    inputs = inference_ctx.get_inference_input_dict(kitti_info, points)\n",
    "    with inference_ctx.ctx():\n",
    "        det_annos = inference_ctx.inference(inputs)\n",
    "\n",
    "    boxes_corners, scores, boxes_lidar = kitti_anno_to_corners(kitti_info, det_annos[0])\n",
    "    class_names = det_annos[0]['name']\n",
    "\n",
    "    # f2 = plt.figure(figsize=(15, 8))\n",
    "    # ax2 = f2.add_subplot(111, projection='3d')                    \n",
    "    # draw_point_cloud(ax2, 'Velodyne scan', points, boxes_corners, xlim3d=(-10,30))\n",
    "    # plt.show()\n",
    "    \n",
    "    return points, boxes_corners, class_names"
   ]
  },
  {
   "cell_type": "code",
   "execution_count": 24,
   "metadata": {},
   "outputs": [],
   "source": [
    "def bounding_box(points, min_x=-np.inf, max_x=np.inf, min_y=-np.inf,\n",
    "                        max_y=np.inf, min_z=-np.inf, max_z=np.inf):\n",
    "    \"\"\" Compute a bounding_box filter on the given points\n",
    "\n",
    "    Parameters\n",
    "    ----------                        \n",
    "    points: (n,3) array\n",
    "        The array containing all the points's coordinates. Expected format:\n",
    "            array([\n",
    "                [x1,y1,z1],\n",
    "                ...,\n",
    "                [xn,yn,zn]])\n",
    "\n",
    "    min_i, max_i: float\n",
    "        The bounding box limits for each coordinate. If some limits are missing,\n",
    "        the default values are -infinite for the min_i and infinite for the max_i.\n",
    "\n",
    "    Returns\n",
    "    -------\n",
    "    bb_filter : boolean array\n",
    "        The boolean mask indicating wherever a point should be keeped or not.\n",
    "        The size of the boolean mask will be the same as the number of given points.\n",
    "\n",
    "    \"\"\"\n",
    "\n",
    "    bound_x = np.logical_and(points[:, 0] > min_x, points[:, 0] < max_x)\n",
    "    bound_y = np.logical_and(points[:, 1] > min_y, points[:, 1] < max_y)\n",
    "    bound_z = np.logical_and(points[:, 2] > min_z, points[:, 2] < max_z)\n",
    "\n",
    "    bb_filter = np.logical_and(bound_x, bound_y, bound_z)\n",
    "\n",
    "    return bb_filter"
   ]
  },
  {
   "cell_type": "code",
   "execution_count": null,
   "metadata": {},
   "outputs": [],
   "source": [
    "# ped\n",
    "info_path = '/datasets/kitti_infos_train.pkl'\n",
    "vconfig_path = Path('/workspace/second.pytorch/second/configs/people.config')\n",
    "ckpt_path = Path('/workspace/second.pytorch/pretrained_models/ped_model/voxelnet-296960.tckpt')"
   ]
  },
  {
   "cell_type": "markdown",
   "metadata": {},
   "source": [
    "- voxelnet-296960.tckpt # 사람\n",
    "- voxelnet-74240.tckpt # multi\n",
    "\n"
   ]
  },
  {
   "cell_type": "code",
   "execution_count": 20,
   "metadata": {},
   "outputs": [
    {
     "data": {
      "text/plain": [
       "[]"
      ]
     },
     "execution_count": 20,
     "metadata": {},
     "output_type": "execute_result"
    }
   ],
   "source": [
    "\n",
    "\n",
    "lidar_file_paths = sorted(glob('/Datasets/testing/*.bin'))"
   ]
  },
  {
   "cell_type": "code",
   "execution_count": null,
   "metadata": {},
   "outputs": [],
   "source": []
  },
  {
   "cell_type": "code",
   "execution_count": null,
   "metadata": {},
   "outputs": [],
   "source": []
  }
 ],
 "metadata": {
  "kernelspec": {
   "display_name": "Python 3",
   "language": "python",
   "name": "python3"
  },
  "language_info": {
   "codemirror_mode": {
    "name": "ipython",
    "version": 3
   },
   "file_extension": ".py",
   "mimetype": "text/x-python",
   "name": "python",
   "nbconvert_exporter": "python",
   "pygments_lexer": "ipython3",
   "version": "3.6.8"
  },
  "varInspector": {
   "cols": {
    "lenName": 16,
    "lenType": 16,
    "lenVar": 40
   },
   "kernels_config": {
    "python": {
     "delete_cmd_postfix": "",
     "delete_cmd_prefix": "del ",
     "library": "var_list.py",
     "varRefreshCmd": "print(var_dic_list())"
    },
    "r": {
     "delete_cmd_postfix": ") ",
     "delete_cmd_prefix": "rm(",
     "library": "var_list.r",
     "varRefreshCmd": "cat(var_dic_list()) "
    }
   },
   "types_to_exclude": [
    "module",
    "function",
    "builtin_function_or_method",
    "instance",
    "_Feature"
   ],
   "window_display": false
  }
 },
 "nbformat": 4,
 "nbformat_minor": 2
}
